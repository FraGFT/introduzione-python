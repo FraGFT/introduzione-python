{
 "cells": [
  {
   "cell_type": "markdown",
   "id": "b152879e",
   "metadata": {},
   "source": [
    "# Benvenuti\n",
    "## Benvenuti"
   ]
  },
  {
   "cell_type": "code",
   "execution_count": 1,
   "id": "f33209cb",
   "metadata": {},
   "outputs": [],
   "source": [
    "a=0\n",
    "b=1"
   ]
  },
  {
   "cell_type": "code",
   "execution_count": 2,
   "id": "162d3fbb",
   "metadata": {},
   "outputs": [
    {
     "data": {
      "text/plain": [
       "1"
      ]
     },
     "execution_count": 2,
     "metadata": {},
     "output_type": "execute_result"
    }
   ],
   "source": [
    "a"
   ]
  },
  {
   "cell_type": "markdown",
   "id": "6c1b9ba3",
   "metadata": {},
   "source": [
    "Per un insieme $S = {s_1, s_2, \\dots, s_n}$ di numeri interi, è possibile calcolare il valore medio come: $\\frac{\\sum_{i=1}^{n} s_i}{n}$"
   ]
  },
  {
   "cell_type": "code",
   "execution_count": null,
   "id": "d6997782",
   "metadata": {},
   "outputs": [],
   "source": []
  }
 ],
 "metadata": {
  "kernelspec": {
   "display_name": "Python 3 (ipykernel)",
   "language": "python",
   "name": "python3"
  },
  "language_info": {
   "codemirror_mode": {
    "name": "ipython",
    "version": 3
   },
   "file_extension": ".py",
   "mimetype": "text/x-python",
   "name": "python",
   "nbconvert_exporter": "python",
   "pygments_lexer": "ipython3",
   "version": "3.10.7"
  }
 },
 "nbformat": 4,
 "nbformat_minor": 5
}
