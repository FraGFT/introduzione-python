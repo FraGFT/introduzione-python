{
 "cells": [
  {
   "cell_type": "markdown",
   "id": "b152879e",
   "metadata": {},
   "source": [
    "# Benvenuti\n",
    "## Benvenuti"
   ]
  },
  {
   "cell_type": "markdown",
   "id": "c4b7ff51",
   "metadata": {},
   "source": [
    "guida linguaggio di markdown: https://docs.github.com/en/get-started/writing-on-github/getting-started-with-writing-and-formatting-on-github/basic-writing-and-formatting-syntax"
   ]
  },
  {
   "cell_type": "markdown",
   "id": "d277d548",
   "metadata": {},
   "source": [
    "guida jupyter notebook: https://towardsdatascience.com/jypyter-notebook-shortcuts-bf0101a98330"
   ]
  },
  {
   "cell_type": "code",
   "execution_count": 1,
   "id": "f33209cb",
   "metadata": {},
   "outputs": [],
   "source": [
    "a=0\n",
    "b=1"
   ]
  },
  {
   "cell_type": "code",
   "execution_count": 2,
   "id": "162d3fbb",
   "metadata": {},
   "outputs": [
    {
     "data": {
      "text/plain": [
       "0"
      ]
     },
     "execution_count": 2,
     "metadata": {},
     "output_type": "execute_result"
    }
   ],
   "source": [
    "a"
   ]
  },
  {
   "cell_type": "markdown",
   "id": "6c1b9ba3",
   "metadata": {},
   "source": [
    "Per un insieme $S = {s_1, s_2, \\dots, s_n}$ di numeri interi, è possibile calcolare il valore medio come: $\\frac{\\sum_{i=1}^{n} s_i}{n}$"
   ]
  },
  {
   "cell_type": "code",
   "execution_count": 3,
   "id": "d6997782",
   "metadata": {},
   "outputs": [
    {
     "name": "stdout",
     "output_type": "stream",
     "text": [
      "ciao\n"
     ]
    }
   ],
   "source": [
    "print('ciao')"
   ]
  },
  {
   "cell_type": "code",
   "execution_count": 4,
   "id": "3ee8ae64",
   "metadata": {},
   "outputs": [
    {
     "name": "stdout",
     "output_type": "stream",
     "text": [
      "Help on built-in function print in module builtins:\n",
      "\n",
      "print(...)\n",
      "    print(value, ..., sep=' ', end='\\n', file=sys.stdout, flush=False)\n",
      "    \n",
      "    Prints the values to a stream, or to sys.stdout by default.\n",
      "    Optional keyword arguments:\n",
      "    file:  a file-like object (stream); defaults to the current sys.stdout.\n",
      "    sep:   string inserted between values, default a space.\n",
      "    end:   string appended after the last value, default a newline.\n",
      "    flush: whether to forcibly flush the stream.\n",
      "\n"
     ]
    }
   ],
   "source": [
    "help(print)"
   ]
  },
  {
   "cell_type": "code",
   "execution_count": 5,
   "id": "a73c0532",
   "metadata": {},
   "outputs": [],
   "source": [
    "import math as mt #crea un alias per math"
   ]
  },
  {
   "cell_type": "code",
   "execution_count": 6,
   "id": "1eccea16",
   "metadata": {
    "scrolled": true
   },
   "outputs": [
    {
     "data": {
      "text/plain": [
       "1.559302580079866"
      ]
     },
     "execution_count": 6,
     "metadata": {},
     "output_type": "execute_result"
    }
   ],
   "source": [
    "mt.atan(87)"
   ]
  },
  {
   "cell_type": "code",
   "execution_count": 7,
   "id": "f24ba4da",
   "metadata": {},
   "outputs": [
    {
     "data": {
      "text/plain": [
       "3.141592653589793"
      ]
     },
     "execution_count": 7,
     "metadata": {},
     "output_type": "execute_result"
    }
   ],
   "source": [
    "mt.pi"
   ]
  },
  {
   "cell_type": "markdown",
   "id": "eb4c2ed2",
   "metadata": {},
   "source": [
    "## Tipi di dati in Python"
   ]
  },
  {
   "cell_type": "markdown",
   "id": "db13c167",
   "metadata": {},
   "source": [
    "Ci sono tipi di dato primitivi:\n",
    "- int\n",
    "- str\n",
    "- ecc...\n",
    "\n",
    "come capisco il tipo di dato di una certa variabile? usiamo una funzione di built-in: type()"
   ]
  },
  {
   "cell_type": "code",
   "execution_count": 8,
   "id": "db8f6191",
   "metadata": {},
   "outputs": [
    {
     "name": "stdout",
     "output_type": "stream",
     "text": [
      "1 ciao\n",
      "<class 'int'> <class 'str'>\n"
     ]
    }
   ],
   "source": [
    "a=1\n",
    "b= 'ciao'\n",
    "print(a,b)\n",
    "print(type(a),type(b))"
   ]
  },
  {
   "cell_type": "markdown",
   "id": "55fa9122",
   "metadata": {},
   "source": [
    "Python è tipizzato, cioè differenzia i tipi di dato (capisce la differenza eg tra int e string). Durante le operazioni di assegnamento non devo specificare il tipo di dato che sto associando: si dice \"inferenza del tipo di dato\"."
   ]
  },
  {
   "cell_type": "markdown",
   "id": "2975f9e7",
   "metadata": {},
   "source": [
    "Nei linguaggi di programmazione ad alto livello gli oggetti sono delle strutture di dati che conservano un insieme di informazioni.\n",
    "ESEMPIO: un numero intero $n$ in alcuni linguaggi (eg java) può essere salvato in una cella di memoria di 32 bit direttamente.\n",
    "In questo caso si parla di una variabile primitiva, ovvero tipo di dato fondamentale (\"atomico\").\n",
    "Immaginiamo di dover creare un modello computazionale per gestirei numeri complessi nella forma $a+ib$. Non ci basta più una cella di memoria, ci serve una struttura dati per identificare parte reale e parte immaginaria, questa struttura è noto come oggetto.\n",
    "Gli oggetti, oltre a custodire dati, possono anche esporre delle funzioni, ad esempio calcolare il modulo di un numero complesso.\n",
    "Un oggetto è una struttra di dati (primitivi o oggetti a loro volta) che può esporre anche delle funzioni.\n",
    "Un tipo primitivo può essere trattato come un oggetto (non viceversa), in questo caso si usano strutture dati dette \"wrappers\" (avvolgitori) che incorporano il comportamento di un dato primitivo e lo trasportano in un oggetto.\n",
    "La convenienza di usare strutture dati wraper è poter aggiungere funzioni ad un oggetto primitivo."
   ]
  },
  {
   "cell_type": "markdown",
   "id": "9aca80e7",
   "metadata": {},
   "source": [
    "in python c'è un comando per listare tutte le funzioni di una certa classe"
   ]
  },
  {
   "cell_type": "code",
   "execution_count": 9,
   "id": "850e57e8",
   "metadata": {},
   "outputs": [
    {
     "data": {
      "text/plain": [
       "['__add__',\n",
       " '__class__',\n",
       " '__contains__',\n",
       " '__delattr__',\n",
       " '__dir__',\n",
       " '__doc__',\n",
       " '__eq__',\n",
       " '__format__',\n",
       " '__ge__',\n",
       " '__getattribute__',\n",
       " '__getitem__',\n",
       " '__getnewargs__',\n",
       " '__gt__',\n",
       " '__hash__',\n",
       " '__init__',\n",
       " '__init_subclass__',\n",
       " '__iter__',\n",
       " '__le__',\n",
       " '__len__',\n",
       " '__lt__',\n",
       " '__mod__',\n",
       " '__mul__',\n",
       " '__ne__',\n",
       " '__new__',\n",
       " '__reduce__',\n",
       " '__reduce_ex__',\n",
       " '__repr__',\n",
       " '__rmod__',\n",
       " '__rmul__',\n",
       " '__setattr__',\n",
       " '__sizeof__',\n",
       " '__str__',\n",
       " '__subclasshook__',\n",
       " 'capitalize',\n",
       " 'casefold',\n",
       " 'center',\n",
       " 'count',\n",
       " 'encode',\n",
       " 'endswith',\n",
       " 'expandtabs',\n",
       " 'find',\n",
       " 'format',\n",
       " 'format_map',\n",
       " 'index',\n",
       " 'isalnum',\n",
       " 'isalpha',\n",
       " 'isascii',\n",
       " 'isdecimal',\n",
       " 'isdigit',\n",
       " 'isidentifier',\n",
       " 'islower',\n",
       " 'isnumeric',\n",
       " 'isprintable',\n",
       " 'isspace',\n",
       " 'istitle',\n",
       " 'isupper',\n",
       " 'join',\n",
       " 'ljust',\n",
       " 'lower',\n",
       " 'lstrip',\n",
       " 'maketrans',\n",
       " 'partition',\n",
       " 'removeprefix',\n",
       " 'removesuffix',\n",
       " 'replace',\n",
       " 'rfind',\n",
       " 'rindex',\n",
       " 'rjust',\n",
       " 'rpartition',\n",
       " 'rsplit',\n",
       " 'rstrip',\n",
       " 'split',\n",
       " 'splitlines',\n",
       " 'startswith',\n",
       " 'strip',\n",
       " 'swapcase',\n",
       " 'title',\n",
       " 'translate',\n",
       " 'upper',\n",
       " 'zfill']"
      ]
     },
     "execution_count": 9,
     "metadata": {},
     "output_type": "execute_result"
    }
   ],
   "source": [
    "dir(b)"
   ]
  },
  {
   "cell_type": "code",
   "execution_count": 10,
   "id": "67faf5be",
   "metadata": {},
   "outputs": [
    {
     "data": {
      "text/plain": [
       "False"
      ]
     },
     "execution_count": 10,
     "metadata": {},
     "output_type": "execute_result"
    }
   ],
   "source": [
    "b.isnumeric()"
   ]
  },
  {
   "cell_type": "code",
   "execution_count": 11,
   "id": "03ff83fe",
   "metadata": {},
   "outputs": [],
   "source": [
    "c='1'"
   ]
  },
  {
   "cell_type": "code",
   "execution_count": 12,
   "id": "f8d89310",
   "metadata": {},
   "outputs": [
    {
     "name": "stdout",
     "output_type": "stream",
     "text": [
      "<class 'str'>\n",
      "True\n"
     ]
    }
   ],
   "source": [
    "print(type(c))\n",
    "print(c.isnumeric())"
   ]
  },
  {
   "cell_type": "markdown",
   "id": "78950031",
   "metadata": {},
   "source": [
    "Quando un'operazione è rischiosa per la runtime, questa può essere circondata da una struttura a blocchi che previene l'interruzione forzata del programma"
   ]
  },
  {
   "cell_type": "code",
   "execution_count": 13,
   "id": "f996d9ee",
   "metadata": {},
   "outputs": [
    {
     "name": "stdout",
     "output_type": "stream",
     "text": [
      "non posso sommare col + una stringa ed un intero\n"
     ]
    }
   ],
   "source": [
    "try:\n",
    "    a+c #python ha bisogno dell'indentazione, che fa da solo\n",
    "except:\n",
    "    print('non posso sommare col + una stringa ed un intero')"
   ]
  },
  {
   "cell_type": "code",
   "execution_count": 14,
   "id": "9d3d2103",
   "metadata": {},
   "outputs": [
    {
     "data": {
      "text/plain": [
       "10715086071862673209484250490600018105614048117055336074437503883703510511249361224931983788156958581275946729175531468251871452856923140435984577574698574803934567774824230985421074605062371141877954182153046474983581941267398767559165543946077062914571196477686542167660429831652624386837205668069376"
      ]
     },
     "execution_count": 14,
     "metadata": {},
     "output_type": "execute_result"
    }
   ],
   "source": [
    "2**1000\n"
   ]
  },
  {
   "cell_type": "code",
   "execution_count": null,
   "id": "3a3e83fb",
   "metadata": {},
   "outputs": [],
   "source": []
  }
 ],
 "metadata": {
  "kernelspec": {
   "display_name": "Python 3 (ipykernel)",
   "language": "python",
   "name": "python3"
  },
  "language_info": {
   "codemirror_mode": {
    "name": "ipython",
    "version": 3
   },
   "file_extension": ".py",
   "mimetype": "text/x-python",
   "name": "python",
   "nbconvert_exporter": "python",
   "pygments_lexer": "ipython3",
   "version": "3.10.7"
  }
 },
 "nbformat": 4,
 "nbformat_minor": 5
}
